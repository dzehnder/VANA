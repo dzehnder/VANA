{
 "cells": [
  {
   "cell_type": "markdown",
   "metadata": {},
   "source": [
    "# Assignment 2 : Gradient Descent"
   ]
  },
  {
   "cell_type": "markdown",
   "metadata": {},
   "source": [
    "### Goal\n",
    "\n",
    "Apply the simplest variant of gradient descent (\"vanilla gradient descent\", VGD) to two simple use cases:\n",
    "\n",
    "a. Linear Regression: Test by comparing with the solution of the normal equations.<br>\n",
    "b. Rosenbrock Function: Explore the behavior of the method with different initial values and learning rates.<br>\n",
    "\n",
    "The formulas for the gradient for the two use cases can be found on the slides. These will be helpful to implement vanilla gradient descent. For validating that the formula and the implementation is correct, you also need to implement gradient checking. \n",
    "\n",
    "**Overview**\n",
    "\n",
    "| Exercise | Content | Punkte |\n",
    "| :--- | :--- | :---: |\n",
    "| Exercise 1 | Vanilla Gradient Descent (VGD) | min req for \"pass\", 1 bonus point |\n",
    "| Exercise 2 | Application of VGD to Linear Regression | min req for \"pass\" |\n",
    "| Exercise 3 | Analysis of VGD applied to Linear Regression | min req for \"pass\", 1 bonus point |\n",
    "| Exercise 4 | Application of VGD to Rosenbrock | min req for \"pass\" |\n",
    "| Exercise 5 | Analysis of VGD applied to Rosenbrock | bonus points: 2 |\n",
    "\n",
    "For convenience, I have added some unit test cells (marked as **<span style=\"color:green\">TEST</span>**). If their execution do result in a **Python-Error** (e.g. Assertion Error) then something is probably wrong with your implementation. Don't modify the test cells.\n",
    "\n",
    "Please send your solution by email to [Martin Melchior](mailto:martin.melchior@fhnw.ch).\n"
   ]
  },
  {
   "cell_type": "markdown",
   "metadata": {},
   "source": [
    "## 1. Preparations, Imports, Plotting\n",
    "\n",
    "Implement the methods below in <code>Numpy</code>. \n",
    "\n",
    "**Important Remark:** The function variables $x$ are vectors. With fixed numerical values this translates to numpy-arrays. The shape of the numpy arrays Numpy Arrays ist je nach Use Case unterschiedlich. Wir wählen in den Use Cases Lineare Regression und Rosenbrock Shapes $(n,1)$, wobei $n$ die Anzahl Variablen bezeichnet.\n",
    "\n",
    "For plotting we will use <code>Matplotlib</code>. \n",
    "\n",
    "Accordingly, we only need the following two imports: "
   ]
  },
  {
   "cell_type": "code",
   "execution_count": 8,
   "metadata": {},
   "outputs": [],
   "source": [
    "import numpy as np\n",
    "import matplotlib\n",
    "import matplotlib.pyplot as plt"
   ]
  },
  {
   "cell_type": "markdown",
   "metadata": {},
   "source": [
    "For checking progress in the optimization process, we want to see how the cost and the learning speed progresses. The following function can be used to achieve that: <code>learningcurve_plots</code> "
   ]
  },
  {
   "cell_type": "code",
   "execution_count": 180,
   "metadata": {},
   "outputs": [],
   "source": [
    "def learningcurve_plots(cost_hist, learning_speed_hist, logy=False):\n",
    "    \"\"\"\n",
    "    cost_hist -- history of cost values, as np-array of shape (T,1)\n",
    "    learning_speed_hist -- history of learning speed values, as np-array of shape (T,1)\n",
    "    logy -- if set to True will plot the y axis at logarithmic scale\n",
    "    \"\"\"\n",
    "    plt.figure(1)\n",
    "    T = len(cost_hist)\n",
    "    if logy:\n",
    "        plt.semilogy(np.arange(T),cost_hist,'b-')\n",
    "    else:\n",
    "        plt.plot(np.arange(T),cost_hist,'b-')\n",
    "    plt.title(\"Cost\")\n",
    "        \n",
    "    plt.figure(2)\n",
    "    T = len(learning_speed_hist)\n",
    "    if logy:\n",
    "        plt.semilogy(np.arange(T),learning_speed_hist,'g-')\n",
    "    else:\n",
    "        plt.plot(np.arange(T),learning_speed_hist,'g-')\n",
    "    plt.title(\"Learning Speed\")"
   ]
  },
  {
   "cell_type": "markdown",
   "metadata": {},
   "source": [
    "## 2. Vanilla Gradient Descent \n",
    "\n",
    "### Implementation\n",
    "\n",
    "#### <span style=\"color:blue\">EXERCISE 1</span> \n",
    "\n",
    "\n",
    "Implement a function for the computation of Vanilla Gradient Descent.\n",
    "The functions should adopt the signature as described below. For passing other parameters to the cost and gradient function use \"keyword arguments\" (<code>kwargs</code>) that can be passed forward to the calculation of the cost and gradient. \n",
    "\n",
    "The implementation can be tested (to some extent) with the subsequent test cell."
   ]
  },
  {
   "cell_type": "code",
   "execution_count": 342,
   "metadata": {},
   "outputs": [],
   "source": [
    "def vanilla_gradient_descent( cost, gradient_cost, learningrate, x_initial, max_iter, eps=1.0e-4, **kwargs):\n",
    "    \"\"\"\n",
    "    Performs plain vanilla gradient descent for the cost function with given gradient-function. The variables x of the function are provided as np-arrays.\n",
    "    \n",
    "    Arguments:\n",
    "    cost -- cost function as a function object that accepts as input a np-array (shape of x) and returns a real number.\n",
    "    gradient_cost -- gradient of the cost function that accepts as input a np-array (shape of x) and returns a np-array (shape of x).\n",
    "    learningrate -- learning rate\n",
    "    x_initial -- initial value, np-array with shape of x\n",
    "    max_iter -- maximum number of iterations\n",
    "    eps -- tolerance used for formulating the stopping criterium: here, formulated in terms of the length of the gradient.\n",
    "    kwargs -- further arguments that can passed forward to the call of the cost and gradient function.\n",
    "    \n",
    "    Returns:\n",
    "    xopt -- the optimum value x where the cost function is minimized (within the given tolerance): np-array with shape of x\n",
    "    cost_hist -- history of the values of the cost function seen during the iteration loop: np-array of shape (T,1) where T is the number of iteration needed.\n",
    "    learning_speed_hist -- history of the learning speed where the learning speed given by the norm of the difference between subsequent x-values: np-array of shape (T,1) where T is the number of iteration needed.\n",
    "    \"\"\"\n",
    "    # START YOUR CODE\n",
    "\n",
    "    iterations = 0\n",
    "    x_current = x_initial\n",
    "        \n",
    "    ch_list = np.array([cost(x_current, **kwargs)])\n",
    "    ls = eps + 1\n",
    "    lsh_list = []\n",
    "    while((ls >= eps) and (iterations < max_iter)):\n",
    "        step = learningrate*(gradient_cost(x_current, **kwargs))\n",
    "        x_current = x_current - step\n",
    "               \n",
    "        ch_list = np.append(ch_list, cost(x_current, **kwargs))\n",
    "        ls = np.linalg.norm(step)\n",
    "        \n",
    "        lsh_list= np.append(lsh_list, ls)\n",
    "        iterations += 1\n",
    "\n",
    "    \n",
    "    ch_list = ch_list.reshape(-2,1)\n",
    "    lsh_list = lsh_list.reshape(-2,1)\n",
    "    return x_current, ch_list, lsh_list\n",
    "    \n",
    "    # END YOUR CODE"
   ]
  },
  {
   "cell_type": "markdown",
   "metadata": {},
   "source": [
    "#### <span style=\"color:green\">TEST</span>"
   ]
  },
  {
   "cell_type": "code",
   "execution_count": 343,
   "metadata": {},
   "outputs": [
    {
     "name": "stdout",
     "output_type": "stream",
     "text": [
      "Number of iterations: 176, final cost: 0.00000, final speed: 0.00000\n"
     ]
    },
    {
     "data": {
      "image/png": "[encoded data removed]",
      "text/plain": [
       "<Figure size 432x288 with 1 Axes>"
      ]
     },
     "metadata": {
      "needs_background": "light"
     },
     "output_type": "display_data"
    },
    {
     "data": {
      "image/png": "[encoded data removed]",
      "text/plain": [
       "<Figure size 432x288 with 1 Axes>"
      ]
     },
     "metadata": {
      "needs_background": "light"
     },
     "output_type": "display_data"
    }
   ],
   "source": [
    "#########\n",
    "# TEST\n",
    "#######\n",
    "\n",
    "def test_cost(x, a, b):\n",
    "    \"\"\"\n",
    "    x - the variables to be optimized\n",
    "    a - parameter (treated by vanilla_gradient_descent as kwargs)\n",
    "    b - parameter (treated by vanilla_gradient_descent as kwargs)\n",
    "    \"\"\"\n",
    "    return (a*x[0,0]**2 + b*x[1,0]**2)/2.0\n",
    "\n",
    "def test_gradient_cost(x, a, b):\n",
    "    \"\"\"\n",
    "    x - the variables to be optimized\n",
    "    a - parameter (treated by vanilla_gradient_descent as kwargs)\n",
    "    b - parameter (treated by vanilla_gradient_descent as kwargs)\n",
    "    \"\"\"\n",
    "    return np.array([a,b]).reshape(2,1)*x\n",
    "\n",
    "learningrate = 0.1\n",
    "x0 = np.array([10,10]).reshape(2,1)\n",
    "\n",
    "xopt, cost_hist, learning_speed_hist = vanilla_gradient_descent(test_cost, test_gradient_cost, learningrate, x0, 1000, eps=1.0e-8, a=1, b=2)\n",
    "T = cost_hist.size-1\n",
    "print(\"Number of iterations: %i, final cost: %6.5f, final speed: %6.5f\"%(T, cost_hist[-1,0], learning_speed_hist[-1,0]))\n",
    "learningcurve_plots(cost_hist, learning_speed_hist)\n",
    "\n",
    "np.testing.assert_array_equal((2,1), xopt.shape)\n",
    "np.testing.assert_array_equal((T+1,1), cost_hist.shape)\n",
    "np.testing.assert_array_equal((T,1), learning_speed_hist.shape)\n",
    "np.testing.assert_array_almost_equal(np.linalg.norm(xopt), 0.0, decimal=3)"
   ]
  },
  {
   "cell_type": "markdown",
   "metadata": {},
   "source": [
    "## 3 Application to Linear Regression\n",
    "\n",
    "Apply Vanilla Gradient Descent to the cost function used for linear regression.<br>\n",
    "Test the method by comparing with the solution of the normal equations on the basis of the dataset studied in the lecture and exercise 2 of worksheet week 6. "
   ]
  },
  {
   "cell_type": "code",
   "execution_count": 199,
   "metadata": {},
   "outputs": [
    {
     "data": {
      "image/png": "[encoded data removed]",
      "text/plain": [
       "<Figure size 432x288 with 1 Axes>"
      ]
     },
     "metadata": {
      "needs_background": "light"
     },
     "output_type": "display_data"
    }
   ],
   "source": [
    "# Test Data\n",
    "def load_regression_data():\n",
    "    x = np.array([1.0,2.0,3.0,2.5,3.0,3.0,4.0,4.0,4.5,5.0,5.0,6.0,6.0,7.0,8.0,8.0,9.0,9.0])\n",
    "    N = x.size\n",
    "    x = x.reshape(N,1)\n",
    "    y = np.array([2.0,2.0,4.0,4.0,3.0,4.0,4.0,5.0,6.0,5.0,6.0,7.0,9.0,8.0,7.0,8.0,8.0,9.0]).reshape(N,1)\n",
    "    return x,y\n",
    "\n",
    "x,y = load_regression_data()\n",
    "plt.plot(x,y,'b+')\n",
    "\n",
    "def design_matrix(x):\n",
    "    X = np.stack((x**0, x), axis=1)\n",
    "    X = X.squeeze()\n",
    "    return X\n",
    "    \n",
    "X = design_matrix(x)"
   ]
  },
  {
   "cell_type": "markdown",
   "metadata": {},
   "source": [
    "#### <span style=\"color:blue\">EXERCISE 2</span> \n",
    "\n",
    "Implement the cost function and its gradient for a general linear regression problem with design matrix $X$ and target value vector $y$.\n",
    "\n",
    "As cost function we use the average square distance between target values $y^{(i)}$ and values predicted by the model $\\hat{y}^{(i)}$. \n",
    "\n",
    "Don't get confused about the notation and what needs to get optimized, i.e. the linear regression parameters $\\alpha$. The data points $x,y$ and the design matrix are considered as additional parameters."
   ]
  },
  {
   "cell_type": "code",
   "execution_count": 404,
   "metadata": {},
   "outputs": [],
   "source": [
    "def lin_regression_cost(alpha, X, y):\n",
    "    \"\"\"\n",
    "    Cost function for the linear regression problem with affine linear model.\n",
    "\n",
    "    Arguments:    \n",
    "    alpha -- array of parameters to be optimized: np-array of shape (m,1)\n",
    "    X -- design matrix, array of shape (N, m)\n",
    "    y -- regression result, array of shape (N,1)\n",
    "    \n",
    "    Returns:\n",
    "    cost -- the cost function for the given parameter array\n",
    "    \"\"\"\n",
    "    # START YOUR CODE\n",
    "\n",
    "    yhat = np.dot(X,alpha)\n",
    "    \n",
    "    return (np.square(np.linalg.norm(y-yhat))/(2*(len(y))))\n",
    "\n",
    "    \n",
    "    # END YOUR CODE\n",
    "    \n",
    "def lin_regression_gradient_cost(alpha, X, y):\n",
    "    \"\"\"\n",
    "    Gradient of the cost function for the linear regression problem with affine linear model.\n",
    "    Arguments:\n",
    "    alpha -- array of parameters to be optimized: np-array of shape (m,1)\n",
    "    X -- design matrix, array of shape (N, m)\n",
    "    y -- regression result, array of shape (N,1)\n",
    "    \n",
    "    Returns:\n",
    "    gradient_cost -- the gradient of the cost function for the given parameter array\n",
    "    \"\"\"\n",
    "    # START YOUR CODE    \n",
    "    x = X[0]\n",
    "    yhat = np.dot(X,alpha)\n",
    "    XT = np.transpose(X)\n",
    "    X2T = 2 * XT\n",
    "    return ((np.dot(X2T, y) - np.dot(X2T,yhat))/(-2*(len(y))))\n",
    "    \n",
    "    \n",
    "    # END YOUR CODE\n",
    "    \n",
    "def optimized_parameters_exact(X,y):\n",
    "    \"\"\"\n",
    "    Arguments:\n",
    "    X -- design matrix, array of shape (N, m)\n",
    "    y -- regression result, array of shape (N,1)\n",
    "\n",
    "    Returns:\n",
    "    alpha_opt -- the optimized parameters by solving the normal equations\n",
    "    \"\"\"\n",
    "    # START YOUR CODE\n",
    "    XT = np.transpose(X)\n",
    "    XTy = np.dot(XT, y)\n",
    "    XTX = np.dot(XT, X)\n",
    "    return np.dot(np.linalg.inv(XTX), XTy)\n",
    "    \n",
    "    # END YOUR CODE\n"
   ]
  },
  {
   "cell_type": "markdown",
   "metadata": {},
   "source": [
    "#### <span style=\"color:green\">TEST</span>"
   ]
  },
  {
   "cell_type": "code",
   "execution_count": 405,
   "metadata": {},
   "outputs": [],
   "source": [
    "########\n",
    "# TEST\n",
    "########\n",
    "x,y = load_regression_data()\n",
    "X = design_matrix(x)\n",
    "alpha0 = np.array([1,1]).reshape(2,1)\n",
    "np.testing.assert_almost_equal(0.5138888888888888, lin_regression_cost(alpha0, X=X, y=y))\n",
    "np.testing.assert_array_equal((2,1), lin_regression_gradient_cost(alpha0, X=X, y=y).shape)\n",
    "np.testing.assert_array_almost_equal(np.array([0.38888889,2.75]).reshape(2,1), lin_regression_gradient_cost(alpha0, X=X, y=y), decimal=8)\n",
    "alpha, _, _ = vanilla_gradient_descent(lin_regression_cost, lin_regression_gradient_cost, 0.001, alpha0, 200000, eps=1.0e-6, X=X, y=y)\n",
    "np.testing.assert_array_equal((2,1), alpha.shape)\n",
    "np.testing.assert_array_almost_equal(optimized_parameters_exact(X, y), alpha, decimal=2)"
   ]
  },
  {
   "cell_type": "markdown",
   "metadata": {},
   "source": [
    "#### <span style=\"color:blue\">EXERCISE 3 </span>\n",
    "\n",
    "Apply Vanilla Gradient Descent to the linear regression use case. \n",
    "Examine the number of iterations as a function of the learning rate: Choose the fixed starting value $(1,1)$ and an accuracy $\\epsilon = 1.0e^{-6}$.\n",
    "1. Determine the range $[\\rho_{\\rm min}, \\rho_{\\rm max}]$ from which the learning rate can be chosen at which Vanilla Gradient Descent converges. \n",
    "2. Determine the optimal learning rate $\\rho_{\\rm opt}$ at which the number of iterations becomes minimal.\n",
    "3. What happens at learning rates larger than $\\rho_{\\rm opt}$? Explain - also by studying the learning speed curve.\n"
   ]
  },
  {
   "cell_type": "code",
   "execution_count": 412,
   "metadata": {},
   "outputs": [
    {
     "name": "stdout",
     "output_type": "stream",
     "text": [
      "pmin:\n",
      "[[0.99281659]\n",
      " [0.94388669]]\n",
      "32524\n",
      "pmax:\n",
      "[[1.32539691]\n",
      " [0.85714335]]\n",
      "2209\n",
      "popt:\n",
      "[[1.32531441]\n",
      " [0.85715624]]\n",
      "734\n"
     ]
    }
   ],
   "source": [
    "# EXERCISE 3.1\n",
    "\n",
    "x,y = load_regression_data()\n",
    "X = design_matrix(x)\n",
    "\n",
    "# START YOUR CODE\n",
    "init = np.array([1,1]).reshape(2,1)\n",
    "\n",
    "xopt, cost_hist, learning_speed_hist = vanilla_gradient_descent(lin_regression_cost, lin_regression_gradient_cost, 1.0e-6 , init, 1.0e6, eps=1.0e-6, X=X, y=y)\n",
    "print(\"pmin:\")\n",
    "print(xopt)\n",
    "print(len(cost_hist))\n",
    "\n",
    "xopt, cost_hist, learning_speed_hist = vanilla_gradient_descent(lin_regression_cost, lin_regression_gradient_cost, 0.0634 , init, 1.0e6, eps=1.0e-6, X=X, y=y)\n",
    "print(\"pmax:\")\n",
    "print(xopt)\n",
    "print(len(cost_hist))\n",
    "\n",
    "xopt, cost_hist, learning_speed_hist = vanilla_gradient_descent(lin_regression_cost, lin_regression_gradient_cost, 0.063 , init, 1.0e6, eps=1.0e-6, X=X, y=y)\n",
    "print(\"popt:\")\n",
    "print(xopt)\n",
    "print(len(cost_hist))\n",
    "\n",
    "\n",
    "\n",
    "# END YOUR CODE"
   ]
  },
  {
   "cell_type": "markdown",
   "metadata": {},
   "source": [
    "**Comments**:\n",
    "* $\\rho_{\\rm max} = 0.0634$ with $2209$ iterations. It converges at the point $xopt = (1.32539691, 0.85714335)$\n",
    "* $\\rho_{\\rm min} = 1.0e^{-6}$ with $32524$ iterations. It converges at the point $xopt = (0.99281659, 0.94388669)$\n",
    "\n",
    "\n",
    "\n",
    "\n"
   ]
  },
  {
   "cell_type": "markdown",
   "metadata": {},
   "source": [
    "**Exercise 3.2:**\n",
    "\n",
    "Answer:\n",
    "\n",
    "The optimal learning speed should ideally converge with a minimal amount of iterations. To achieve that, it should be at xopt with minimal iterations.\n",
    "\n",
    "With the optimal learning speed $\\rho_{\\rm opt} = 0.063 $, the VDG will converge after $734$ iterations at the point $(1.32531441, 0.85715624)."
   ]
  },
  {
   "cell_type": "markdown",
   "metadata": {},
   "source": [
    "**Exercise 3.3:**\n",
    "\n",
    "Answer:\n",
    "\n",
    "With a learning rate larger than $\\rho_{\\rm opt}$, it will still converge but only if it does not get larger than $\\rho_{\\rm max}$\n"
   ]
  },
  {
   "cell_type": "markdown",
   "metadata": {},
   "source": [
    "### 4. Application to Rosenbrock Function\n",
    "\n",
    "Rosenbrock function is defined by\n",
    "\n",
    "$\\qquad f(x,y)= \\frac{1}{2}\\left((4(x^2-y))^2+(y-1)^2\\right)$\n",
    "\n",
    "\n",
    "#### <span style=\"color:blue\">EXERCISE 4</span>\n",
    "\n",
    "Implement Vanilla Gradient Descent applied to Rosenbrock's function: Implement the function and its gradient."
   ]
  },
  {
   "cell_type": "code",
   "execution_count": 277,
   "metadata": {},
   "outputs": [],
   "source": [
    "def rosenbrock(x):\n",
    "    \"\"\"\n",
    "    Arguments:\n",
    "    x -- a 2d np-array (of shape (2,1)) \n",
    "\n",
    "    Returns:\n",
    "    c -- value of the rosenbrock function\n",
    "    \"\"\"    \n",
    "    # START YOUR CODE  \n",
    "\n",
    "    X = x[0]\n",
    "    Y = x[1]\n",
    "    return 0.5 * (16 * (Y - X**2)**2 + (Y - 1)**2)\n",
    "    \n",
    "    # END YOUR CODE\n",
    "    \n",
    "def gradient_rosenbrock(x):\n",
    "    \"\"\"\n",
    "    Arguments:\n",
    "    x -- a 2d np-array (of shape (2,1)) \n",
    "\n",
    "    Returns:\n",
    "    gradient -- gradient of the rosenbrock function, np-array of shape (2,1)\n",
    "    \"\"\"    \n",
    "    # START YOUR CODE\n",
    "\n",
    "    X = x[0]\n",
    "    Y = x[1]\n",
    "    \n",
    "    gdX = -16 * (Y - X**2) * 2 * X\n",
    "    gdY = 16 * (Y - X**2) + (Y - 1)\n",
    "    \n",
    "    return np.array([gdX, gdY]).reshape(2, 1)\n",
    "    \n",
    "    # END YOUR CODE            "
   ]
  },
  {
   "cell_type": "markdown",
   "metadata": {},
   "source": [
    "#### <span style=\"color:green\">TEST</span>"
   ]
  },
  {
   "cell_type": "code",
   "execution_count": null,
   "metadata": {},
   "outputs": [],
   "source": [
    "########\n",
    "# TEST\n",
    "########\n",
    "np.testing.assert_almost_equal(0.0, rosenbrock(np.array([1,1]).reshape(2,1)), decimal=8)\n",
    "np.testing.assert_almost_equal(0.0, rosenbrock(np.array([-1,1]).reshape(2,1)), decimal=8)\n",
    "np.testing.assert_almost_equal(17.0/2.0, rosenbrock(np.array([1,0]).reshape(2,1)), decimal=8)\n",
    "\n",
    "np.testing.assert_almost_equal(np.array([0,0]).reshape(2,1), gradient_rosenbrock(np.array([1,1]).reshape(2,1)), decimal=8)\n",
    "np.testing.assert_almost_equal(np.array([32,-17]).reshape(2,1), gradient_rosenbrock(np.array([1,0]).reshape(2,1)), decimal=8)"
   ]
  },
  {
   "cell_type": "markdown",
   "metadata": {},
   "source": [
    "#### <span style=\"color:blue\">AUFGABE 5</span>\n",
    "\n",
    "Apply Vanilla Gradient Descent as implemented in EXERCISE 1. to Rosenbrock's function.<br>\n",
    "\n",
    "1. Analyse the behavior of GD with different learning rates. Select a fixed initial value $(0.5,0.0)$ and a precision $1.0e^{-6}$. For comparison, prepare a plot with number of iterations needed vs learning rate. What learning rates are possible? Is there an optimal learning rate? **Remark:** Only accept solutions that lead to the minimum in the right half plane (located at $(1,1)$).  \n",
    "\n",
    "2. Analyse the behavior of GD with different learning rates - now selecting $(1.0,0.0)$ as initial value (und again a precision $1.0e^{-6}$). Is there a difference in the behavior? \n",
    "\n",
    "3. Analyse the behavior of GD with varying initial value at a fixed learning rate $\\rho=0.02$. Choose initial values always on the x-axis, i.e. $(x,0)$. Prepare a plot with the number of iterations vs initial values. \n",
    "\n",
    "4. Are there areas in the (x,y)-plane that are particularly problematic to be used for the starting values? \n"
   ]
  },
  {
   "cell_type": "code",
   "execution_count": 488,
   "metadata": {},
   "outputs": [
    {
     "data": {
      "image/png": "[encoded data removed]",
      "text/plain": [
       "<Figure size 432x288 with 1 Axes>"
      ]
     },
     "metadata": {
      "needs_background": "light"
     },
     "output_type": "display_data"
    }
   ],
   "source": [
    "# EXERCISE 5.1\n",
    "\n",
    "# START YOUR CODE\n",
    "init = np.array([0.5,0.0]).reshape(2,1)\n",
    "it = []\n",
    "ls =  []\n",
    "\n",
    "for l in np.linspace(0.001, 0.025851, num=25):\n",
    "    xopt, cost_hist, learning_speed_hist = vanilla_gradient_descent(rosenbrock, gradient_rosenbrock, l, init, 1.0e6, eps=1.0e-6)\n",
    "    it = np.append(it, len(cost_hist))\n",
    "    ls = np.append(ls, l)\n",
    "\n",
    "plt.figure(3)\n",
    "plt.plot(ls, it)\n",
    "plt.show()\n",
    "\n",
    "# END YOUR CODE"
   ]
  },
  {
   "cell_type": "markdown",
   "metadata": {},
   "source": [
    "**Comment**:\n",
    "The graph plots the number of iterations needed (vertical) vs learning rate (horizontal).\n",
    "\n",
    "In the graph we can observe that with a higher lerning rate, up to $0.025851$, the number of iterations needed is lowered.\n",
    "\n",
    "Here, the $\\rho_{\\rm opt}$ is the same as $\\rho_{\\rm max}$.\n",
    "\n",
    "At $\\rho_{\\rm opt} = 0.025851$ the number of iterations needed are just $499$.\n",
    "\n"
   ]
  },
  {
   "cell_type": "code",
   "execution_count": 492,
   "metadata": {},
   "outputs": [
    {
     "data": {
      "image/png": "[encoded data removed]",
      "text/plain": [
       "<Figure size 432x288 with 1 Axes>"
      ]
     },
     "metadata": {
      "needs_background": "light"
     },
     "output_type": "display_data"
    }
   ],
   "source": [
    "# EXERCISE 5.2\n",
    "\n",
    "# START YOUR CODE\n",
    "init = np.array([1.0,0.0]).reshape(2,1)\n",
    "it = []\n",
    "ls =  []\n",
    "\n",
    "for l in np.linspace(0.001, 0.025859, num=25):\n",
    "    xopt, cost_hist, learning_speed_hist = vanilla_gradient_descent(rosenbrock, gradient_rosenbrock, l, init, 1.0e6, eps=1.0e-6)\n",
    "    it = np.append(it, len(cost_hist))\n",
    "    ls = np.append(ls, l)\n",
    "\n",
    "plt.figure(4)\n",
    "plt.plot(ls, it)\n",
    "plt.show()\n",
    "\n",
    "\n",
    "\n",
    "\n",
    "\n",
    "\n",
    "# END YOUR CODE"
   ]
  },
  {
   "cell_type": "markdown",
   "metadata": {},
   "source": [
    "**Comments**:\n",
    "The graph plots the number of iterations needed (vertical) vs learning rate (horizontal).\n",
    "\n",
    "Compared to the previous graph, we can observe that $\\rho_{\\rm opt}$ and $\\rho_{\\rm max}$ are slightly higher, but the amount of iterations needed is higher.\n",
    "\n",
    "\n",
    "At $\\rho_{\\rm opt} = 0.025859$ the number of iterations needed is $504$.\n"
   ]
  },
  {
   "cell_type": "code",
   "execution_count": 594,
   "metadata": {},
   "outputs": [
    {
     "data": {
      "image/png": "[encoded data removed]",
      "text/plain": [
       "<Figure size 432x288 with 1 Axes>"
      ]
     },
     "metadata": {
      "needs_background": "light"
     },
     "output_type": "display_data"
    }
   ],
   "source": [
    "# EXERCISE 5.3\n",
    "\n",
    "# START YOUR CODE\n",
    "\n",
    "init = np.array([0.0,0.0]).reshape(2,1)\n",
    "it = []\n",
    "init_vals =  []\n",
    "for i in np.linspace(0, 1.823, num=500):\n",
    "    init = np.array([i,0.0]).reshape(2,1)\n",
    "    xopt, cost_hist, learning_speed_hist = vanilla_gradient_descent(rosenbrock, gradient_rosenbrock, 0.02, init, 1.0e6, eps=1.0e-6)\n",
    "    it = np.append(it, len(cost_hist))\n",
    "    init_vals = np.append(init_vals, i)\n",
    "\n",
    "plt.figure(5)\n",
    "plt.plot(init_vals, it)\n",
    "plt.show()\n",
    "\n",
    "# END YOUR CODE"
   ]
  },
  {
   "cell_type": "markdown",
   "metadata": {},
   "source": [
    "**Comments:**\n",
    "The graph shows the number of iterations (verical) vs the initial values (horizontal). It can be observed that the number of iterations needed drops significantly at $(0,0)$ and $(1.75,0)$ and rises significantly at $(0,0)$ and $(1.25,0)$. Those points could be saddlepoints."
   ]
  },
  {
   "cell_type": "code",
   "execution_count": 605,
   "metadata": {},
   "outputs": [
    {
     "data": {
      "image/png": "[encoded data removed]",
      "text/plain": [
       "<Figure size 432x288 with 1 Axes>"
      ]
     },
     "metadata": {
      "needs_background": "light"
     },
     "output_type": "display_data"
    }
   ],
   "source": [
    "# EXERCISE 5.4\n",
    "init = np.array([0.0,0.0]).reshape(2,1)\n",
    "it = []\n",
    "init_vals =  []\n",
    "for i in np.linspace(0, 1.823, num=500):\n",
    "    init = np.array([0.0, i]).reshape(2,1)\n",
    "    xopt, cost_hist, learning_speed_hist = vanilla_gradient_descent(rosenbrock, gradient_rosenbrock, 0.02, init, 1.0e6, eps=1.0e-6)\n",
    "    it = np.append(it, len(cost_hist))\n",
    "    init_vals = np.append(init_vals, i)\n",
    "\n",
    "plt.figure(5)\n",
    "plt.plot(init_vals, it)\n",
    "plt.show()\n",
    "\n",
    "#init = np.array([0.0,0.0]).reshape(2,1)\n",
    "#it = []\n",
    "#init_vals =  []\n",
    "#jnit_vals =  []\n",
    "#for i in np.linspace(0, 1.823, num=50):\n",
    "#    for j in np.linspace(0, 1.823, num=50):\n",
    "#        init = np.array([i,j]).reshape(2,1)\n",
    "#        xopt, cost_hist, learning_speed_hist = vanilla_gradient_descent(rosenbrock, gradient_rosenbrock, 0.02, init, 1.0e6, eps=1.0e-6)\n",
    "#        it = np.append(it, len(cost_hist))\n",
    "#        init_vals = np.append(init_vals, i)\n",
    "#       jnit_vals = np.append(jnit_vals, j)\n",
    "\n",
    "#plt.figure(6)\n",
    "#ax = plt.axes(projection='3d')\n",
    "#ax.plot3D(init_vals, jnit_vals, it)\n",
    "#plt.show()"
   ]
  },
  {
   "cell_type": "markdown",
   "metadata": {},
   "source": [
    "**Comment:**\n",
    "\n",
    "Compared to the x-values, the y-values have only one point, at around $(0.0,0.1)$, where there could be a sattlepoint."
   ]
  },
  {
   "cell_type": "code",
   "execution_count": null,
   "metadata": {},
   "outputs": [],
   "source": []
  }
 ],
 "metadata": {
  "kernelspec": {
   "display_name": "Python 3",
   "language": "python",
   "name": "python3"
  },
  "language_info": {
   "codemirror_mode": {
    "name": "ipython",
    "version": 3
   },
   "file_extension": ".py",
   "mimetype": "text/x-python",
   "name": "python",
   "nbconvert_exporter": "python",
   "pygments_lexer": "ipython3",
   "version": "3.8.5"
  }
 },
 "nbformat": 4,
 "nbformat_minor": 4
}
