{
 "cells": [
  {
   "cell_type": "markdown",
   "metadata": {},
   "source": [
    "# Determining the Roots of Polynomials"
   ]
  },
  {
   "cell_type": "markdown",
   "metadata": {},
   "source": [
    "### Goal\n",
    "\n",
    "Implement an algorithm in `numpy` that allows to determine the roots of all the (possibly complex) roots of an arbitrary polynomial with real coefficients. \n",
    "\n",
    "To that end, you need to  \n",
    "\n",
    "1. implement the Mueller algorithm\n",
    "2. learn using a representation of the polynomials and dividing polynomials using this representation\n",
    "3. iteratively factorising off roots found by the Mueller algorithm by means of polynomial division \n",
    "\n",
    "\n",
    "For the implementation you should use `numpy`-functionality, but **no** higher-level libraries such as *scipy*.  \n",
    "\n",
    "You can also find further information on the Mueller algorithm in the pdf with some pages extracted from G. Opfer _Numerische Mathematik für Anfänger_, Vieweg 2001.\n",
    "\n",
    "Please send your solution by mail to [Martin Melchior](mailto:martin.melchior@fhnw.ch)."
   ]
  },
  {
   "cell_type": "markdown",
   "metadata": {},
   "source": [
    "## 1. Polynomials and their Roots\n",
    "\n",
    "The [Fundamental Theorem of Algebra](https://de.wikipedia.org/wiki/Fundamentalsatz_der_Algebra) says that a polynomial of degree $n$ has exactly $n$ roots (where a given root can occur multiple times). \n",
    "\n",
    "### Decomposition into Linear Factors\n",
    "This result allows to express any polynomial of degree $n$ as a product of $n$ linear factors, i.e.\n",
    "\n",
    "$$p(x) = a\\prod_{k=1}^n (x-x_k)$$\n",
    "\n",
    "where $x_1,\\dots,x_n$ denote the roots of the polynomial $p(x)$. In this list, a given root can occur multiple times (i.e. $x_k$ and $x_j$ can be identical) and some of the roots can be complex-valued.\n",
    "\n",
    "Example: The polynomial $p(x) = x^3 + x^2 = x^2 \\cdot (x+1)$ has a factorisation \n",
    "\n",
    "$$p(x) = x \\cdot x \\cdot (x+1) = (x-x_1)\\cdot (x-x_2)\\cdot (x-x_3) {\\rm  \\quad with \\qquad} x_1=x_2=0, x_3=-1$$\n",
    "\n",
    "\n",
    "Let $x_0$ be a root of an arbitrary polynomial $p(x)$.\n",
    "\n",
    "We can always write down the following factorization: \n",
    "\n",
    "$$p(x) = (x-x_0)\\cdot q(x) + r(x) $$\n",
    "\n",
    "where \n",
    "* $q(x)$ is a polynomial with degree $deg(q)=deg(p)-1$ and \n",
    "* $r(x)$ is the remainder of the polynomial division which is of smaller degree than the divisor.\n",
    "\n",
    "In our case, $deg(r)<1$ so that $r(x)$ is a constant $r_0$.  \n",
    "\n",
    "Now, if $x_0$ is a root of $p(x)$ we can have:\n",
    "\n",
    "$$0 = p(x_0) = (x_0-x_0)\\cdot q(x_0) + r_0 = r_0 $$\n",
    "\n",
    "Hence, we obtain $p(x)=(x-x_0)\\cdot q(x)$.\n",
    "\n",
    "We can do this factorization for all the roots so that any polynomial of degree $n$ factors into $n$ (possibly complex) linear factors. \n",
    "\n",
    "\n",
    "### Complex Roots\n",
    "In general, the roots are complex. For polynomials with real cofficients, these occur in complex conjugate pairs, i.e. \n",
    "\n",
    "If $z$ is a complex root, then its conjugate $\\overline{z}$ is also a root.\n",
    "\n",
    "As an example, we examine the roots of the polynomial\n",
    "\n",
    "$$p(x) = x^4 -1$$\n",
    "\n",
    "The roots are given by $x_1=1, x_2=-1, x_3=+i, x_4=-i$ (note that $(\\pm i)^4 = \\left(i^2\\right)^2 = (-1)^2 = 1$). The roots all lie on the intersections of the unit circle with the axis.\n",
    "\n",
    "<img src=\"polarx4.png\">"
   ]
  },
  {
   "cell_type": "markdown",
   "metadata": {},
   "source": [
    "## 2. Implement Mueller Algorithm"
   ]
  },
  {
   "cell_type": "markdown",
   "metadata": {},
   "source": [
    "The Mueller Algorithm tries to iteratively determine the root (zero) of a function  $f(x)$ by starting from given values $\\{x_0, x_1, x_2\\}$ . While Newton's algorithm uses  subsequent approximations in form of the tangent line, Mueller's algorithm uses parabolas. An advantage is that by solving for the roots of a parabola also complex solutions can be found. "
   ]
  },
  {
   "cell_type": "code",
   "execution_count": 1,
   "metadata": {
    "scrolled": true
   },
   "outputs": [],
   "source": [
    "import numpy as np\n",
    "import matplotlib.pyplot as plt"
   ]
  },
  {
   "cell_type": "markdown",
   "metadata": {},
   "source": [
    "No further imports will be necessary."
   ]
  },
  {
   "cell_type": "markdown",
   "metadata": {},
   "source": [
    "In a single iteration step of the Mueller algorithm, \n",
    "* the parabola is fitted (by using the function `fit_parabola` in (a)) which is centered around the previous iteration value ($x_2$)\n",
    "* the (at max two) roots of the parabola are computed (by using the 'quadratic formula')\n",
    "* the root $r$ with the smaller absolute value is used a difference to the next iteration value ($x_3 = r-x_2$)"
   ]
  },
  {
   "cell_type": "markdown",
   "metadata": {},
   "source": [
    "### Problem 1(a): Fit a parabola through three given points"
   ]
  },
  {
   "cell_type": "markdown",
   "metadata": {},
   "source": [
    "Implement a function `fit_parabola` that fits a parabola through three given points of a function $f$ evaluated at $x$-values $x_0, x_1, x_2$. The parabola is parameterised by $p(x)=a(x-x_2)^2+b(x-x_2)+c$. The function should return the coefficients $a,b,c$."
   ]
  },
  {
   "cell_type": "code",
   "execution_count": 2,
   "metadata": {
    "scrolled": true
   },
   "outputs": [],
   "source": [
    "def fit_parabola( f, x0, x1, x2 ):\n",
    "    \"\"\"\n",
    "    Fits a parabola to the function f in the points (x0, x1, x2) and returns the \n",
    "    parameters (a,b,c) of the parabola.\n",
    "    \n",
    "    Arguments:\n",
    "    f -- arbitrary Python function with one argument\n",
    "    x0 -- data point x_0 (real or complex number)\n",
    "    x1 -- data point x_1 (real or complex number)\n",
    "    x2 -- data point x_2 (real or complex number)\n",
    "    \n",
    "    Returns:\n",
    "    a, b, c -- parabola's parameters\n",
    "    \"\"\"\n",
    "    \n",
    "    # EXERCISE START\n",
    "\n",
    "    y0=f(x0)\n",
    "    y1=f(x1)\n",
    "    y2=f(x2)\n",
    "    \n",
    "    y = (np.array([y0,y1,y2]))\n",
    "    x = np.array([[((x0-x2)*(x0-x2)),(x0-x2),1],\n",
    "                  [((x1-x2)*(x1-x2)),(x1-x2),1],\n",
    "                  [0,0,1]])\n",
    "    x = np.linalg.inv(x)\n",
    "    \n",
    "    \n",
    "    sol = np.matmul(x,y)\n",
    "    \n",
    "    a = sol[0]\n",
    "    b = sol[1]\n",
    "    c = sol[2]\n",
    "   \n",
    "    # EXERCISE STOP\n",
    "    \n",
    "    return a, b, c\n"
   ]
  },
  {
   "cell_type": "markdown",
   "metadata": {},
   "source": [
    "With the following cell you can test whether your implementation of the function is correct."
   ]
  },
  {
   "cell_type": "code",
   "execution_count": 3,
   "metadata": {
    "scrolled": true
   },
   "outputs": [],
   "source": [
    "# Test function \n",
    "f = lambda x: x**4 - 1\n",
    "x0,x1,x2 = 0.0,1.0,2.0\n",
    "a,b,c = fit_parabola( f, x0,x1,x2 )\n",
    "\n",
    "np.testing.assert_array_almost_equal(a, 7.0, decimal=9)\n",
    "np.testing.assert_array_almost_equal(b, 22.0, decimal=9)\n",
    "np.testing.assert_array_almost_equal(c, 15.0, decimal=9)\n",
    "\n",
    "\n",
    "# If you choose f as a parabola you should obtain the coefficients of the parabola suitably centered at x2\n",
    "f2 = lambda x: (x-2.0)**2+2*(x-2.0)-1\n",
    "x0,x1,x2 = 0.0,1.0,2.0\n",
    "a,b,c = fit_parabola( f2, x0,x1,x2 )\n",
    "\n",
    "np.testing.assert_array_almost_equal(a, 1.0, decimal=9)\n",
    "np.testing.assert_array_almost_equal(b, 2.0, decimal=9)\n",
    "np.testing.assert_array_almost_equal(c, -1.0, decimal=9)\n"
   ]
  },
  {
   "cell_type": "markdown",
   "metadata": {},
   "source": [
    "With the following plotting utility you can test visually whether the correct parameters are returned by your function."
   ]
  },
  {
   "cell_type": "code",
   "execution_count": 4,
   "metadata": {},
   "outputs": [
    {
     "data": {
      "image/png": "[encoded data removed]",
      "text/plain": [
       "<Figure size 432x288 with 1 Axes>"
      ]
     },
     "metadata": {
      "needs_background": "light"
     },
     "output_type": "display_data"
    },
    {
     "data": {
      "image/png": "[encoded data removed]",
      "text/plain": [
       "<Figure size 432x288 with 1 Axes>"
      ]
     },
     "metadata": {
      "needs_background": "light"
     },
     "output_type": "display_data"
    }
   ],
   "source": [
    "def plot_approximation( f, x0, x1, x2 ):\n",
    "    x = np.linspace( x0-np.abs(x2-x0), x2+np.abs(x2-x0), 1000 )\n",
    "    params = fit_parabola( f, x0, x1, x2 )    \n",
    "    plt.plot( x, f(x), color=\"black\", label=\"f(x)\" )\n",
    "    p = lambda x: params[0]*(x-x2)**2 + params[1]*(x-x2) + params[2]\n",
    "    plt.plot( x, p(x), color=\"blue\", linestyle=\"--\", linewidth=1, label=\"p(x)\" )\n",
    "    plt.plot( [x0,x1,x2], [f(x0),f(x1),f(x2)], 'o', color=\"red\" )\n",
    "    plt.plot( x, x*0, color=\"black\", linestyle=\"--\", linewidth=0.5 )\n",
    "    plt.legend()\n",
    "    plt.show()\n",
    "    \n",
    "plot_approximation( f, -2, -1, 0 )\n",
    "plot_approximation( lambda x: 1/(1+x**2)**(0.5), -2,-1,0)"
   ]
  },
  {
   "cell_type": "markdown",
   "metadata": {},
   "source": [
    "The Parabola should pass through the three red points."
   ]
  },
  {
   "cell_type": "markdown",
   "metadata": {},
   "source": [
    "### Problem 1(b): Select Root of Parabola\n",
    "\n",
    "Now select the root of the parabola in $x-x_2$ with the smaller absolute value which will give you the difference to the next iteration value."
   ]
  },
  {
   "cell_type": "code",
   "execution_count": 5,
   "metadata": {
    "scrolled": true
   },
   "outputs": [],
   "source": [
    "def parabolaRoot(a, b, c, eps=1.0e-12):\n",
    "    \"\"\"\n",
    "    Returns for a parabola with (possibly complex) canonical parameters (a,b,c) the roots ('zeros') \n",
    "    suited for the Mueller method.\n",
    "    \n",
    "    Arguments:\n",
    "    a -- coefficient for the squared variable\n",
    "    b -- linear coefficient\n",
    "    c -- constant coefficient\n",
    "    eps - numerical tolerance (absolute values smaller than `eps` are treated as zeros)\n",
    "    \n",
    "    Returns:\n",
    "    r -- suitable root or None if no root can be found\n",
    "    \"\"\"\n",
    "    \n",
    "    # EXERCISE START\n",
    "    r=None\n",
    "    \n",
    "    #TODO: what should be checked with eps?\n",
    "    a = 0 if np.absolute(a)<eps else a\n",
    "    b = 0 if np.absolute(b)<eps else b\n",
    "    c = 0 if np.absolute(c)<eps else c\n",
    "    \n",
    "    if(a==0):\n",
    "        if(b==0):\n",
    "            if(c!=0):\n",
    "                return r\n",
    "            else:\n",
    "                return 0\n",
    "        else:\n",
    "            return -c/b\n",
    "    \n",
    "    \n",
    "    \n",
    "    d = b**2-4*a*c\n",
    "    \n",
    "    #TODO: what should be checked with eps?\n",
    "    d = 0 if np.absolute(d)<eps else d\n",
    "    \n",
    "    ##Could also detect complex case separately but i dont think its necessary\n",
    "    if(d!=0):\n",
    "        r = (((-b)+(np.sqrt(d+0j)))/(2*a))\n",
    "        r_tmp = (((-b)-(np.sqrt(d+0j)))/(2*a))\n",
    "        if(np.absolute(r) > np.absolute(r_tmp)):\n",
    "            r=r_tmp\n",
    "    else:\n",
    "        r = (-b)/2*a\n",
    "        \n",
    "    #TODO: what should be checked with eps?\n",
    "    r = 0 if np.absolute(r)<eps else r\n",
    "    \n",
    "    return r\n",
    "    # EXERCISE STOP"
   ]
  },
  {
   "cell_type": "markdown",
   "metadata": {},
   "source": [
    "#### Tests"
   ]
  },
  {
   "cell_type": "code",
   "execution_count": 6,
   "metadata": {},
   "outputs": [],
   "source": [
    "np.testing.assert_almost_equal(parabolaRoot(2,3,1), -0.5, decimal=10)\n",
    "np.testing.assert_almost_equal(parabolaRoot(0,2,1), -0.5, decimal=10)\n",
    "np.testing.assert_equal(parabolaRoot(0,0,1) is None, True)"
   ]
  },
  {
   "cell_type": "markdown",
   "metadata": {},
   "source": [
    "Be careful about corner cases - reflect about corner cases where a the standard procedure with the 'quadratic formula' ('midnight formula') may not be adequate. \n",
    "\n",
    "Note that the coefficients of the parabola might become zero or complex. Make sure that your implementation in python correctly handles possible imaginary parts - as described below."
   ]
  },
  {
   "cell_type": "markdown",
   "metadata": {},
   "source": [
    "#### Complex Numbers in Numpy\n",
    "\n",
    "Numpy needs to be told explicitly to calculate with complex numbers. To give an example: By default, the expression `np.sqrt(-1)` returns `nan` (not a number). By specifying `np.sqrt(-1+0j)` numpy recognizes that complex numbers need to be considered and returns `1j`. Note that numpy uses as imaginary unit `j` instead of `i` - a default taken from electric engineering where `i` is reserved to denote electric current. \n",
    "\n",
    "Numpy can be forced to use complex numbers as follows (illustrated with the example of the square root):\n",
    "\n",
    "```\n",
    "> np.sqrt(-1+0j)\n",
    "1j\n",
    "> np.sqrt(np.complex(-1))\n",
    "1j\n",
    "```\n",
    "\n",
    "Hence you need to make sure that a complex argument is passed to the square root."
   ]
  },
  {
   "cell_type": "markdown",
   "metadata": {},
   "source": [
    "### Problem (c): Iteration\n",
    "\n",
    "Now combine (a) and (b) to the iterative Mueller algorithm for computing the root of a given function. Your implementation should take a function object $f$ and initial values $\\{x_0,x_1,x_2\\}$ and iteratively calculate a sequence of values until either a root is obtained within a given precision $\\varepsilon$ or a maximum number of iterations $n_\\text{max}$ is reached. The values from where a parabola is fitted in a given iteration step need to be tested for suitability and possibly modified such that a root (of the parabola) can be determined. "
   ]
  },
  {
   "cell_type": "code",
   "execution_count": 7,
   "metadata": {
    "scrolled": true
   },
   "outputs": [],
   "source": [
    "from warnings import warn\n",
    "\n",
    "N_INNER_LOOP = 10\n",
    "\n",
    "def mueller( f, x0, x1, x2, nmax=100, eps=1e-8 ):\n",
    "    \"\"\"\n",
    "    Finds a root of the function f with the Mueller method using the initial values x0, x1 and x2.\n",
    "    Checks first whether one of the initial values already is a root.\n",
    "    \n",
    "    Arguments:\n",
    "    f -- arbitrary Python function with one argument\n",
    "    x0 -- initial point x0 (real or complex number)\n",
    "    x1 -- initial point x1 (real or complex number)\n",
    "    x2 -- initial point x2 (real or complex number)\n",
    "    nmax -- maximum allowed number of iterations\n",
    "    eps -- desired accuracy\n",
    "    \n",
    "    Returns:\n",
    "    rootf -- the root: f(x) = 0\n",
    "    x -- all iterations of x (for diagnostic purposes)\n",
    "    \"\"\"\n",
    "    \n",
    "    # EXERCISE START\n",
    "    num_iter = 0\n",
    "    \n",
    "    #Return inits\n",
    "    root = None\n",
    "    history = [x0,x1,x2]\n",
    "    \n",
    "    #Check if iniial values are roots already\n",
    "    if(f(x0) == 0):\n",
    "        return x0, history\n",
    "    if(f(x1) == 0):\n",
    "        return x1, history\n",
    "    if(f(x2) == 0):\n",
    "        return x2, history\n",
    "    \n",
    "    #TODO: implement\n",
    "    #start iterating\n",
    "    while(num_iter<nmax and not(np.absolute(f(x2))<eps)):\n",
    "        num_iter += 1\n",
    "        \n",
    "        a, b, c = fit_parabola(f, x0, x1, x2)\n",
    "        root = parabolaRoot(a,b,c)\n",
    "        history.append(root)\n",
    "        x0 = x1\n",
    "        x1 = x2\n",
    "        x2 = root\n",
    "        \n",
    "        #print(root)\n",
    "        #print(x0,x1,x2)\n",
    "        \n",
    "        \n",
    "        \n",
    "        \n",
    "    return root, history\n",
    "    # EXERCISE STOP"
   ]
  },
  {
   "cell_type": "markdown",
   "metadata": {},
   "source": [
    "### Test your Implementation\n",
    "\n",
    "Perform a series of tests with functions specified below."
   ]
  },
  {
   "cell_type": "markdown",
   "metadata": {},
   "source": [
    "#### TEST 1\n",
    "\n",
    "Possible roots are : $\\{-1,1,-i,i\\}$ - I obtain them all with the different initial values and the default precision $1.0 e^{-8}$:"
   ]
  },
  {
   "cell_type": "code",
   "execution_count": 8,
   "metadata": {},
   "outputs": [
    {
     "name": "stdout",
     "output_type": "stream",
     "text": [
      "x, f(x):  1 , 0\n",
      "x, f(x):  1j , 0.0\n",
      "x, f(x):  (nan+nanj) , nan\n",
      "x, f(x):  (-0-0.8114889110704563j) , 0.5663589788720131\n"
     ]
    },
    {
     "name": "stderr",
     "output_type": "stream",
     "text": [
      "<ipython-input-5-5ec221c24d37>:42: RuntimeWarning: invalid value encountered in cdouble_scalars\n",
      "  r = (((-b)+(np.sqrt(d+0j)))/(2*a))\n",
      "<ipython-input-5-5ec221c24d37>:43: RuntimeWarning: invalid value encountered in cdouble_scalars\n",
      "  r_tmp = (((-b)-(np.sqrt(d+0j)))/(2*a))\n"
     ]
    }
   ],
   "source": [
    "f = lambda x: x**4-1\n",
    "root, history = mueller( f, 0, 1, 2 )\n",
    "print(\"x, f(x): \", root,\",\", np.abs(f(root)))\n",
    "root, history = mueller( f, 0, 1j, 2j )\n",
    "print(\"x, f(x): \", root,\",\", np.abs(f(root)))\n",
    "root, history = mueller( f, 0, 3, 5 )\n",
    "print(\"x, f(x): \", root,\",\", np.abs(f(root)))\n",
    "root, history = mueller( f, 0, 3j, 5j )\n",
    "print(\"x, f(x): \", root,\",\", np.abs(f(root)))\n"
   ]
  },
  {
   "cell_type": "markdown",
   "metadata": {},
   "source": [
    "By plotting the sequence of values $x$, we can inspect how the solution is reached for given starting values $x_0,x_1,x_2$."
   ]
  },
  {
   "cell_type": "code",
   "execution_count": 9,
   "metadata": {},
   "outputs": [
    {
     "data": {
      "text/plain": [
       "[<matplotlib.lines.Line2D at 0x25c3f9abd00>]"
      ]
     },
     "execution_count": 9,
     "metadata": {},
     "output_type": "execute_result"
    },
    {
     "data": {
      "image/png": "[encoded data removed]",
      "text/plain": [
       "<Figure size 432x288 with 1 Axes>"
      ]
     },
     "metadata": {
      "needs_background": "light"
     },
     "output_type": "display_data"
    }
   ],
   "source": [
    "root, history = mueller( f, 0, 3, 2 )\n",
    "plt.plot( np.abs(history) )"
   ]
  },
  {
   "cell_type": "markdown",
   "metadata": {},
   "source": [
    "#### TEST 2\n",
    "\n",
    "Possible roots are: $\\{0.5\\}$"
   ]
  },
  {
   "cell_type": "code",
   "execution_count": 10,
   "metadata": {},
   "outputs": [
    {
     "ename": "LinAlgError",
     "evalue": "Singular matrix",
     "output_type": "error",
     "traceback": [
      "\u001b[1;31m---------------------------------------------------------------------------\u001b[0m",
      "\u001b[1;31mLinAlgError\u001b[0m                               Traceback (most recent call last)",
      "\u001b[1;32m<ipython-input-10-a1f751204833>\u001b[0m in \u001b[0;36m<module>\u001b[1;34m\u001b[0m\n\u001b[0;32m      1\u001b[0m \u001b[0mf\u001b[0m \u001b[1;33m=\u001b[0m \u001b[1;32mlambda\u001b[0m \u001b[0mx\u001b[0m\u001b[1;33m:\u001b[0m \u001b[1;36m2\u001b[0m\u001b[1;33m*\u001b[0m\u001b[0mx\u001b[0m\u001b[1;33m-\u001b[0m\u001b[1;36m1\u001b[0m\u001b[1;33m\u001b[0m\u001b[1;33m\u001b[0m\u001b[0m\n\u001b[1;32m----> 2\u001b[1;33m \u001b[0mroot\u001b[0m\u001b[1;33m,\u001b[0m \u001b[0mhistory\u001b[0m \u001b[1;33m=\u001b[0m \u001b[0mmueller\u001b[0m\u001b[1;33m(\u001b[0m \u001b[0mf\u001b[0m\u001b[1;33m,\u001b[0m \u001b[1;36m0\u001b[0m\u001b[1;33m,\u001b[0m \u001b[1;36m1\u001b[0m\u001b[1;33m,\u001b[0m \u001b[1;36m2\u001b[0m \u001b[1;33m)\u001b[0m\u001b[1;33m\u001b[0m\u001b[1;33m\u001b[0m\u001b[0m\n\u001b[0m\u001b[0;32m      3\u001b[0m \u001b[0mprint\u001b[0m\u001b[1;33m(\u001b[0m\u001b[1;34m\"x, f(x): \"\u001b[0m\u001b[1;33m,\u001b[0m \u001b[0mroot\u001b[0m\u001b[1;33m,\u001b[0m\u001b[1;34m\",\"\u001b[0m\u001b[1;33m,\u001b[0m \u001b[0mnp\u001b[0m\u001b[1;33m.\u001b[0m\u001b[0mabs\u001b[0m\u001b[1;33m(\u001b[0m\u001b[0mf\u001b[0m\u001b[1;33m(\u001b[0m\u001b[0mroot\u001b[0m\u001b[1;33m)\u001b[0m\u001b[1;33m)\u001b[0m\u001b[1;33m)\u001b[0m\u001b[1;33m\u001b[0m\u001b[1;33m\u001b[0m\u001b[0m\n",
      "\u001b[1;32m<ipython-input-7-bbe531d1ad4f>\u001b[0m in \u001b[0;36mmueller\u001b[1;34m(f, x0, x1, x2, nmax, eps)\u001b[0m\n\u001b[0;32m     41\u001b[0m         \u001b[0mnum_iter\u001b[0m \u001b[1;33m+=\u001b[0m \u001b[1;36m1\u001b[0m\u001b[1;33m\u001b[0m\u001b[1;33m\u001b[0m\u001b[0m\n\u001b[0;32m     42\u001b[0m \u001b[1;33m\u001b[0m\u001b[0m\n\u001b[1;32m---> 43\u001b[1;33m         \u001b[0ma\u001b[0m\u001b[1;33m,\u001b[0m \u001b[0mb\u001b[0m\u001b[1;33m,\u001b[0m \u001b[0mc\u001b[0m \u001b[1;33m=\u001b[0m \u001b[0mfit_parabola\u001b[0m\u001b[1;33m(\u001b[0m\u001b[0mf\u001b[0m\u001b[1;33m,\u001b[0m \u001b[0mx0\u001b[0m\u001b[1;33m,\u001b[0m \u001b[0mx1\u001b[0m\u001b[1;33m,\u001b[0m \u001b[0mx2\u001b[0m\u001b[1;33m)\u001b[0m\u001b[1;33m\u001b[0m\u001b[1;33m\u001b[0m\u001b[0m\n\u001b[0m\u001b[0;32m     44\u001b[0m         \u001b[0mroot\u001b[0m \u001b[1;33m=\u001b[0m \u001b[0mparabolaRoot\u001b[0m\u001b[1;33m(\u001b[0m\u001b[0ma\u001b[0m\u001b[1;33m,\u001b[0m\u001b[0mb\u001b[0m\u001b[1;33m,\u001b[0m\u001b[0mc\u001b[0m\u001b[1;33m)\u001b[0m\u001b[1;33m\u001b[0m\u001b[1;33m\u001b[0m\u001b[0m\n\u001b[0;32m     45\u001b[0m         \u001b[0mhistory\u001b[0m\u001b[1;33m.\u001b[0m\u001b[0mappend\u001b[0m\u001b[1;33m(\u001b[0m\u001b[0mroot\u001b[0m\u001b[1;33m)\u001b[0m\u001b[1;33m\u001b[0m\u001b[1;33m\u001b[0m\u001b[0m\n",
      "\u001b[1;32m<ipython-input-2-857c01b954a7>\u001b[0m in \u001b[0;36mfit_parabola\u001b[1;34m(f, x0, x1, x2)\u001b[0m\n\u001b[0;32m     24\u001b[0m                   \u001b[1;33m[\u001b[0m\u001b[1;33m(\u001b[0m\u001b[1;33m(\u001b[0m\u001b[0mx1\u001b[0m\u001b[1;33m-\u001b[0m\u001b[0mx2\u001b[0m\u001b[1;33m)\u001b[0m\u001b[1;33m*\u001b[0m\u001b[1;33m(\u001b[0m\u001b[0mx1\u001b[0m\u001b[1;33m-\u001b[0m\u001b[0mx2\u001b[0m\u001b[1;33m)\u001b[0m\u001b[1;33m)\u001b[0m\u001b[1;33m,\u001b[0m\u001b[1;33m(\u001b[0m\u001b[0mx1\u001b[0m\u001b[1;33m-\u001b[0m\u001b[0mx2\u001b[0m\u001b[1;33m)\u001b[0m\u001b[1;33m,\u001b[0m\u001b[1;36m1\u001b[0m\u001b[1;33m]\u001b[0m\u001b[1;33m,\u001b[0m\u001b[1;33m\u001b[0m\u001b[1;33m\u001b[0m\u001b[0m\n\u001b[0;32m     25\u001b[0m                   [0,0,1]])\n\u001b[1;32m---> 26\u001b[1;33m     \u001b[0mx\u001b[0m \u001b[1;33m=\u001b[0m \u001b[0mnp\u001b[0m\u001b[1;33m.\u001b[0m\u001b[0mlinalg\u001b[0m\u001b[1;33m.\u001b[0m\u001b[0minv\u001b[0m\u001b[1;33m(\u001b[0m\u001b[0mx\u001b[0m\u001b[1;33m)\u001b[0m\u001b[1;33m\u001b[0m\u001b[1;33m\u001b[0m\u001b[0m\n\u001b[0m\u001b[0;32m     27\u001b[0m \u001b[1;33m\u001b[0m\u001b[0m\n\u001b[0;32m     28\u001b[0m \u001b[1;33m\u001b[0m\u001b[0m\n",
      "\u001b[1;32m<__array_function__ internals>\u001b[0m in \u001b[0;36minv\u001b[1;34m(*args, **kwargs)\u001b[0m\n",
      "\u001b[1;32m~\\anaconda3\\lib\\site-packages\\numpy\\linalg\\linalg.py\u001b[0m in \u001b[0;36minv\u001b[1;34m(a)\u001b[0m\n\u001b[0;32m    545\u001b[0m     \u001b[0msignature\u001b[0m \u001b[1;33m=\u001b[0m \u001b[1;34m'D->D'\u001b[0m \u001b[1;32mif\u001b[0m \u001b[0misComplexType\u001b[0m\u001b[1;33m(\u001b[0m\u001b[0mt\u001b[0m\u001b[1;33m)\u001b[0m \u001b[1;32melse\u001b[0m \u001b[1;34m'd->d'\u001b[0m\u001b[1;33m\u001b[0m\u001b[1;33m\u001b[0m\u001b[0m\n\u001b[0;32m    546\u001b[0m     \u001b[0mextobj\u001b[0m \u001b[1;33m=\u001b[0m \u001b[0mget_linalg_error_extobj\u001b[0m\u001b[1;33m(\u001b[0m\u001b[0m_raise_linalgerror_singular\u001b[0m\u001b[1;33m)\u001b[0m\u001b[1;33m\u001b[0m\u001b[1;33m\u001b[0m\u001b[0m\n\u001b[1;32m--> 547\u001b[1;33m     \u001b[0mainv\u001b[0m \u001b[1;33m=\u001b[0m \u001b[0m_umath_linalg\u001b[0m\u001b[1;33m.\u001b[0m\u001b[0minv\u001b[0m\u001b[1;33m(\u001b[0m\u001b[0ma\u001b[0m\u001b[1;33m,\u001b[0m \u001b[0msignature\u001b[0m\u001b[1;33m=\u001b[0m\u001b[0msignature\u001b[0m\u001b[1;33m,\u001b[0m \u001b[0mextobj\u001b[0m\u001b[1;33m=\u001b[0m\u001b[0mextobj\u001b[0m\u001b[1;33m)\u001b[0m\u001b[1;33m\u001b[0m\u001b[1;33m\u001b[0m\u001b[0m\n\u001b[0m\u001b[0;32m    548\u001b[0m     \u001b[1;32mreturn\u001b[0m \u001b[0mwrap\u001b[0m\u001b[1;33m(\u001b[0m\u001b[0mainv\u001b[0m\u001b[1;33m.\u001b[0m\u001b[0mastype\u001b[0m\u001b[1;33m(\u001b[0m\u001b[0mresult_t\u001b[0m\u001b[1;33m,\u001b[0m \u001b[0mcopy\u001b[0m\u001b[1;33m=\u001b[0m\u001b[1;32mFalse\u001b[0m\u001b[1;33m)\u001b[0m\u001b[1;33m)\u001b[0m\u001b[1;33m\u001b[0m\u001b[1;33m\u001b[0m\u001b[0m\n\u001b[0;32m    549\u001b[0m \u001b[1;33m\u001b[0m\u001b[0m\n",
      "\u001b[1;32m~\\anaconda3\\lib\\site-packages\\numpy\\linalg\\linalg.py\u001b[0m in \u001b[0;36m_raise_linalgerror_singular\u001b[1;34m(err, flag)\u001b[0m\n\u001b[0;32m     95\u001b[0m \u001b[1;33m\u001b[0m\u001b[0m\n\u001b[0;32m     96\u001b[0m \u001b[1;32mdef\u001b[0m \u001b[0m_raise_linalgerror_singular\u001b[0m\u001b[1;33m(\u001b[0m\u001b[0merr\u001b[0m\u001b[1;33m,\u001b[0m \u001b[0mflag\u001b[0m\u001b[1;33m)\u001b[0m\u001b[1;33m:\u001b[0m\u001b[1;33m\u001b[0m\u001b[1;33m\u001b[0m\u001b[0m\n\u001b[1;32m---> 97\u001b[1;33m     \u001b[1;32mraise\u001b[0m \u001b[0mLinAlgError\u001b[0m\u001b[1;33m(\u001b[0m\u001b[1;34m\"Singular matrix\"\u001b[0m\u001b[1;33m)\u001b[0m\u001b[1;33m\u001b[0m\u001b[1;33m\u001b[0m\u001b[0m\n\u001b[0m\u001b[0;32m     98\u001b[0m \u001b[1;33m\u001b[0m\u001b[0m\n\u001b[0;32m     99\u001b[0m \u001b[1;32mdef\u001b[0m \u001b[0m_raise_linalgerror_nonposdef\u001b[0m\u001b[1;33m(\u001b[0m\u001b[0merr\u001b[0m\u001b[1;33m,\u001b[0m \u001b[0mflag\u001b[0m\u001b[1;33m)\u001b[0m\u001b[1;33m:\u001b[0m\u001b[1;33m\u001b[0m\u001b[1;33m\u001b[0m\u001b[0m\n",
      "\u001b[1;31mLinAlgError\u001b[0m: Singular matrix"
     ]
    }
   ],
   "source": [
    "f = lambda x: 2*x-1\n",
    "root, history = mueller( f, 0, 1, 2 )\n",
    "print(\"x, f(x): \", root,\",\", np.abs(f(root)))"
   ]
  },
  {
   "cell_type": "markdown",
   "metadata": {},
   "source": [
    "#### TEST 3\n",
    "\n",
    "Possible roots are: $\\{\\pm\\sqrt{2}\\pm\\sqrt{2}i\\}$ (four combinations of the $\\pm$-signs)"
   ]
  },
  {
   "cell_type": "code",
   "execution_count": null,
   "metadata": {},
   "outputs": [],
   "source": [
    "p = lambda x: x**4+16\n",
    "root, history = mueller( p, 0, 1, 2 )\n",
    "print(root, np.abs(p(root)))"
   ]
  },
  {
   "cell_type": "markdown",
   "metadata": {},
   "source": [
    "#### TEST 4\n",
    "\n",
    "Possible roots are $\\{1\\}$."
   ]
  },
  {
   "cell_type": "code",
   "execution_count": null,
   "metadata": {},
   "outputs": [],
   "source": [
    "p = lambda x: x**2-2*x+1\n",
    "root, history = mueller( p, 0, 1, 2 )\n",
    "print(root, np.abs(p(root)))"
   ]
  },
  {
   "cell_type": "markdown",
   "metadata": {},
   "source": [
    "#### TEST 5\n",
    "\n",
    "Examine the convergence of the Mueller algorithm for polynomials of the form $f(x) = x^m + c$ with $m \\in [2,5,10,20,50]$ and $c \\in [1,4,10,100,1000]$. \n",
    "\n",
    "Can you observe convergence for all the values of $m$ and $c$?"
   ]
  },
  {
   "cell_type": "code",
   "execution_count": null,
   "metadata": {
    "scrolled": true
   },
   "outputs": [],
   "source": [
    "x0, x1, x2 = 0,2,4\n",
    "m_range = [2,5,10,20,50]\n",
    "c_range = [1,4,10,100,1000]\n",
    "\n",
    "steps = np.zeros( [len(c_range), len(m_range)] )\n",
    "    \n",
    "for i in range( len( c_range ) ):\n",
    "    for j in range( len( m_range ) ):\n",
    "        root, history = mueller( lambda x: x**m_range[j] + c_range[i], x0, x1, x2 )\n",
    "        steps[i,j] = len(history)\n",
    "    \n",
    "steps"
   ]
  },
  {
   "cell_type": "markdown",
   "metadata": {},
   "source": [
    "## 3. Polynomial Division"
   ]
  },
  {
   "cell_type": "markdown",
   "metadata": {
    "slideshow": {
     "slide_type": "slide"
    }
   },
   "source": [
    "Polynomial division works similarly to long division. It allows to divide a given polynomial by another and to calculate the polynomial factor and the remainder:\n",
    "$$\n",
    "\\frac{p(x)}{s(x)} = q(x) + \\frac{r(x)}{s(x)}\n",
    "$$\n",
    "Goal of this exercise is to implement polynomial division based on a suitable representation of the polynomials $p$ (dividend) and $s$ (divisor).\n",
    "\n",
    "We will represent the polynomials in form of the list of coefficients. \n",
    "\n",
    "For $p(x) = \\sum_{k=0}^{n} \\alpha_k x^k$ we use the representation \n",
    "$$p = [\\alpha_0, \\alpha_1, \\dots, \\alpha_{n-1}, \\alpha_n]$$\n",
    "\n",
    "Note that the coefficient with the largest power is put at the end of the list. \n",
    "\n",
    "**Examples:** \n",
    "\n",
    "$\\begin{array}{llrcl}\n",
    "p(x) = 4x^5 - x^4 + 2x^3 + x^2 - 1 &:&[\\alpha_0, \\alpha_1, \\alpha_2, \\dots, \\alpha_5]&=&[-1,0,1,2,-1,4]\\\\\n",
    "q(x) = x^2+1 &:&[\\alpha_0, \\alpha_1, \\alpha_2] &=& [1,0,1]\n",
    "\\end{array}$"
   ]
  },
  {
   "cell_type": "markdown",
   "metadata": {},
   "source": [
    "For the polynomial division you can use the numpy function `numpy.polydiv`."
   ]
  },
  {
   "cell_type": "code",
   "execution_count": null,
   "metadata": {},
   "outputs": [],
   "source": [
    "p = np.array([-1,0,1,2,-1,4]) # 4x^5-x^4+2x^3+x^2-1\n",
    "q = np.array([1,0,1])         # x^2+1\n",
    "s,r = np.polynomial.polynomial.polydiv( p, q )\n",
    "print(s) # divisor   4x^3-x^2-2x+2\n",
    "print(r) # remainder 2x-3"
   ]
  },
  {
   "cell_type": "markdown",
   "metadata": {},
   "source": [
    "## 4. All Roots of a Polynomial"
   ]
  },
  {
   "cell_type": "markdown",
   "metadata": {},
   "source": [
    "Now we are in the position to implement the function `poly_roots` that determines all roots of a given polynmials by starting with given initial values $x_0, x_1, x_2$."
   ]
  },
  {
   "cell_type": "code",
   "execution_count": null,
   "metadata": {
    "scrolled": true
   },
   "outputs": [],
   "source": [
    "def poly_roots( p, x0, x1, x2, eps=1.0e-8):\n",
    "    \"\"\"\n",
    "    Computes all roots of the polynomial with parameters p, given a set of initial points x0, x1, x2.\n",
    "    Prints a warning in case a polynomial division results in a non-zero rest. \n",
    "    \n",
    "    Arguments:\n",
    "    p -- parameters of the polynomial p\n",
    "    x0 -- initial point x0 (real or complex number)\n",
    "    x1 -- initial point x1 (real or complex number)\n",
    "    x2 -- initial point x2 (real or complex number)\n",
    "    \n",
    "    Returns:\n",
    "    roots -- list of (complex) roots of the polynomial\n",
    "    \"\"\"\n",
    "    # EXERCISE START\n",
    "\n",
    "    \n",
    "    \n",
    "    \n",
    "    \n",
    "    \n",
    "    \n",
    "    \n",
    "    \n",
    "    \n",
    "    \n",
    "    \n",
    "    \n",
    "    \n",
    "    \n",
    "    # EXERCISE STOP"
   ]
  },
  {
   "cell_type": "markdown",
   "metadata": {},
   "source": [
    "### TEST your implementation"
   ]
  },
  {
   "cell_type": "markdown",
   "metadata": {},
   "source": [
    "The following function allows to plot the roots in the complex plane:"
   ]
  },
  {
   "cell_type": "code",
   "execution_count": null,
   "metadata": {
    "scrolled": true
   },
   "outputs": [],
   "source": [
    "def polar_plot( roots ):\n",
    "    for x in roots:\n",
    "        plt.polar([0,np.angle(x)],[0,np.abs(x)],marker='o', label=str(np.round(x,8)) )\n",
    "    plt.legend( bbox_to_anchor=(1.05, 1), loc=2 )"
   ]
  },
  {
   "cell_type": "markdown",
   "metadata": {},
   "source": [
    "#### TEST 1\n",
    "\n",
    "$-x^4+1 :  \\{1,-1,i,-i\\}$"
   ]
  },
  {
   "cell_type": "code",
   "execution_count": null,
   "metadata": {},
   "outputs": [],
   "source": [
    "f = np.array([1, 0, 0, 0, -1])\n",
    "roots = poly_roots( f, -3, -2, -1 )\n",
    "print(roots)\n",
    "polar_plot(roots)"
   ]
  },
  {
   "cell_type": "markdown",
   "metadata": {},
   "source": [
    "#### TEST 2\n",
    "\n",
    "$x^3+x+2 : \\{-1, 1/2\\pm i\\sqrt{7}/2\\}$"
   ]
  },
  {
   "cell_type": "code",
   "execution_count": null,
   "metadata": {},
   "outputs": [],
   "source": [
    "f = np.array([2, 1, 0, 1])\n",
    "roots = poly_roots( f, -3, -2, -1 )\n",
    "print(roots)\n",
    "polar_plot(roots)"
   ]
  },
  {
   "cell_type": "markdown",
   "metadata": {},
   "source": [
    "#### TEST 3\n",
    "\n",
    "$x^4+x^2+2$"
   ]
  },
  {
   "cell_type": "code",
   "execution_count": null,
   "metadata": {},
   "outputs": [],
   "source": [
    "f = np.array([2, 0, 1, 0, 1])\n",
    "roots = poly_roots( f, -3, -2, -1 )\n",
    "print(roots)\n",
    "polar_plot(roots)"
   ]
  },
  {
   "cell_type": "markdown",
   "metadata": {},
   "source": [
    "#### TEST 4\n",
    "\n",
    "$p(x) = x^4 + x^3 + 3x^2 + 2x + 2 : \\{\\pm i\\sqrt{2}, -1/2\\pm i\\sqrt{3}/2\\}$\n"
   ]
  },
  {
   "cell_type": "code",
   "execution_count": null,
   "metadata": {},
   "outputs": [],
   "source": [
    "# EXERCISE START\n",
    "f = np.array([2, 2, 3, 1, 1])\n",
    "roots = poly_roots( f, -3, -2, -1 )\n",
    "print(roots)\n",
    "polar_plot(roots)"
   ]
  },
  {
   "cell_type": "markdown",
   "metadata": {},
   "source": [
    "#### TEST 5\n",
    "\n",
    "$p_2(x) = 3x^6 + 5x^4 - 4x^2 - 3x + 5$"
   ]
  },
  {
   "cell_type": "code",
   "execution_count": null,
   "metadata": {},
   "outputs": [],
   "source": [
    "f = np.array([5,-3,-4,0,5,0,3])\n",
    "roots = poly_roots( f, -3, -2, -1 )\n",
    "print(roots)\n",
    "polar_plot(roots)"
   ]
  }
 ],
 "metadata": {
  "kernelspec": {
   "display_name": "Python 3",
   "language": "python",
   "name": "python3"
  },
  "language_info": {
   "codemirror_mode": {
    "name": "ipython",
    "version": 3
   },
   "file_extension": ".py",
   "mimetype": "text/x-python",
   "name": "python",
   "nbconvert_exporter": "python",
   "pygments_lexer": "ipython3",
   "version": "3.8.3"
  }
 },
 "nbformat": 4,
 "nbformat_minor": 4
}
