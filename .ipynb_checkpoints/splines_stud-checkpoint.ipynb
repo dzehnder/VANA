{
 "cells": [
  {
   "cell_type": "markdown",
   "metadata": {},
   "source": [
    "# Assignment 1: Splines\n",
    "\n",
    "## Introduction\n",
    "\n",
    "Splines provide a technique to interpolate data points. They allow to define functions piecewise so that the data points lie on the function graph \n",
    "and certain conditions are fulfilled. The goals of this assignment can be summarized as follows:\n",
    "\n",
    "#### Goals\n",
    "\n",
    "* Learn how to implement two simple types of spline functions.\n",
    "* Study the impact of imposing continuity and differentiability constraints on the resulting function.\n",
    "* Learn some numpy / matplotlib wrangling.\n",
    "\n",
    "#### Instructions\n",
    "\n",
    "In a first step (problem 1. and 2.), the goal is to compute two splines defined between three given data points and to study two types of continuity and smoothness conditions which lead to two types of splines. The data points are given by $(x_1,y_1),(x_2,y_2),(x_3,y_3)$ where we assume that  $x_1<x_2<x_3$. \n",
    "\n",
    "In problem 3., you generalize the work of problem 2. to an arbitrary number of data points.\n",
    "\n",
    "All the implementation work must be done in this notebook and you must not just use an existing library implementation of the splines. \n",
    "The data ($grid$) are provided in form of a 2d numpy array of shape $(2,N)$ where $N$ is the number of data points to be interpolated.\n",
    "The piece-wise spline function should allow to be evaluated by passing an array of values ($x0$). \n",
    "\n",
    "I have added a few TEST cells that you can use to test your code. If these test cells execute without exception or produce a nice looking graph (graph of te functions passing through the data points (red crosses), then your implementation has better chances to be correct.\n",
    "\n",
    "#### Submission\n",
    "\n",
    "Copy the notebook to your local system and complete the blank parts. \n",
    "Name it with as \n",
    "\n",
    "$\\qquad({\\rm name of team})\\_HS20\\_assignment1.ipynb$ \n",
    "\n",
    "and submit it by email to [Martin Melchior](mailto:martin.melchior@fhnw.ch)."
   ]
  },
  {
   "cell_type": "markdown",
   "metadata": {},
   "source": [
    "#### Imports \n",
    "For plotting, use matplotlib.\n",
    "The following imports should hence be sufficient."
   ]
  },
  {
   "cell_type": "code",
   "execution_count": 3,
   "metadata": {},
   "outputs": [],
   "source": [
    "%matplotlib inline\n",
    "import numpy as np\n",
    "import matplotlib.pyplot as plt"
   ]
  },
  {
   "cell_type": "markdown",
   "metadata": {},
   "source": [
    "## Problem 1\n",
    "\n",
    "Implement the linear spline function $f$ such that \n",
    "* $f(x_k)=y_k$ for $k=0,1,2$.\n",
    "* $f$ is a linear function between the data points $x_{k}<x<x_{k+1}$ for $k=0,1$\n",
    "* $f(x)=y_0$ for $x\\le x_0$ and $f(x)=y_2$ for $x\\ge x_2$ \n",
    "* $f$ is continuous.\n",
    "\n",
    "Proceed as follows:\n",
    "\n",
    "### (a) Derive formulas\n",
    "\n",
    "We set\n",
    "\n",
    "$f_1 (x) = c_1 + b_1 (x-x_0)$<br>\n",
    "$f_2 (x) = c_2 + b_2 (x-x_1)$\n",
    "\n",
    "Define:\n",
    "$f(x)=\\left\\{\\begin{array}{ll}\n",
    "y_0 & (x < x_0)\\\\\n",
    "f_1(x) & (x\\in [x_0,x_1[)\\\\\n",
    "f_2(x) & (x\\in [x_1,x_2[)\\\\\n",
    "y_2 & (x\\ge x_2)\\end{array}\\right.$\n",
    "\n",
    "Express the coefficients $a_1,b_1,a_2,b_2$ based on the coordinates of the datapoints under the condition that the resulting function is continuous."
   ]
  },
  {
   "cell_type": "markdown",
   "metadata": {},
   "source": [
    "#### Your Solution HERE\n",
    "\n",
    "..."
   ]
  },
  {
   "cell_type": "markdown",
   "metadata": {},
   "source": [
    "### (b) Implement the function\n",
    "\n",
    "Implement the function with signature as given below ($linear\\_spline\\_3$):"
   ]
  },
  {
   "cell_type": "code",
   "execution_count": 88,
   "metadata": {},
   "outputs": [],
   "source": [
    "def linear_spline_3(x, grid):\n",
    "    '''\n",
    "    Parameters:\n",
    "    ------------\n",
    "    x - 1d numpy array with the input argument at which the spline function should be evaluated.\n",
    "    grid - a 2d numpy array of shape $(2,3)$ that provides the data points the spline function is supported, \n",
    "    i.e. f(x_k)=y_k (grid[0,:]: x_k-values, grid[1,:]: y_k-values)\n",
    "    grid.shape=(2,3)\n",
    "    \n",
    "    Returns:\n",
    "    --------\n",
    "    y - 1d numpy array with the function values.\n",
    "    '''\n",
    "    prev_y = 1\n",
    "    prev_x = 1\n",
    "    y_vals = []\n",
    "    ## START YOUR CODE ##\n",
    "    for x_val in x:\n",
    "        i = 0\n",
    "        next_x = 0\n",
    "        next_y = 0\n",
    "        while i < len(grid[0]):\n",
    "            next_x = grid[0,i]\n",
    "            next_y = grid[1,i]\n",
    "            if (x_val >= next_x):\n",
    "                i+=1\n",
    "                prev_x = next_x\n",
    "                prev_y = next_y\n",
    "            else:\n",
    "                break\n",
    "        if next_x-prev_x == 0:\n",
    "            y_vals.append(prev_y)\n",
    "        else:\n",
    "            slope = (next_y-prev_y)/(next_x-prev_x)\n",
    "            diff = next_y - (slope * next_x)\n",
    "            y_vals.append(slope*x_val + diff)\n",
    "    \n",
    "    return y_vals\n",
    "\n",
    "    ## END YOUR CODE ##\n",
    "\n"
   ]
  },
  {
   "cell_type": "markdown",
   "metadata": {},
   "source": [
    "#### TEST"
   ]
  },
  {
   "cell_type": "code",
   "execution_count": 89,
   "metadata": {},
   "outputs": [
    {
     "data": {
      "image/png": "[encoded data removed]",
      "text/plain": [
       "<Figure size 432x288 with 1 Axes>"
      ]
     },
     "metadata": {
      "needs_background": "light"
     },
     "output_type": "display_data"
    }
   ],
   "source": [
    "# TEST\n",
    "grid = np.array([[1,4,6],[1,6,4]], dtype='float64')\n",
    "grid.shape\n",
    "\n",
    "x = np.arange(0,10,0.01)\n",
    "y = linear_spline_3(x,grid)\n",
    "\n",
    "plt.plot(x,y,'b')\n",
    "plt.plot(grid[0,0],grid[1,0],'r+')\n",
    "plt.plot(grid[0,1],grid[1,1],'r+')\n",
    "plt.plot(grid[0,2],grid[1,2],'r+')\n",
    "\n",
    "plt.show()"
   ]
  },
  {
   "cell_type": "markdown",
   "metadata": {},
   "source": [
    "## Problem 2\n",
    "\n",
    "Implement the quadratic spline function $f$ such that \n",
    "* $f(x_k)=y_k$ for $k=0,1,2$.\n",
    "* $f$ is a quadratic function between the data points $x_{k}<x<x_{k+1}$ for $k=0,1$\n",
    "* $f(x)=y_0$ for $x\\le x_0$ and $f(x)=y_2$ for $x\\ge x_2$ \n",
    "* $f$ is continuous. \n",
    "* $f$ is continuously differentiable at $x_1$.\n",
    "\n",
    "Proceed as follows:\n",
    "\n",
    "### (a) Derive formulas\n",
    "\n",
    "We set\n",
    "\n",
    "$f_1 (x) = c_1 + b_1 (x-x_0) + a_1 (x-x_0)^2$<br>\n",
    "$f_2 (x) = c_2 + b_2 (x-x_1) + a_2 (x-x_1)^2$\n",
    "\n",
    "Define:\n",
    "$f(x)=\\left\\{\\begin{array}{ll}\n",
    "y_0 & (x < x_0)\\\\\n",
    "f_1(x) & (x\\in [x_0,x_1[)\\\\\n",
    "f_2(x) & (x\\in [x_1,x_2[)\\\\\n",
    "y_2 & (x \\ge x_2)\\end{array}\\right.$\n",
    "\n",
    "Express the coefficients $a_1,b_1,c_1,a_2,b_2,c_2$ based on the coordinates of the datapoints under the condition that the resulting function is continuous and continuously differentiable for $x\\in]x_0,x_2[$.\n",
    "\n",
    "You will see that there is a remaining parameter that is not yet settled. We will fix by claiming that the derivative at $x_0$ is given by $\\beta$.  "
   ]
  },
  {
   "cell_type": "markdown",
   "metadata": {},
   "source": [
    "#### Your Solution HERE \n",
    "\n",
    "..."
   ]
  },
  {
   "cell_type": "markdown",
   "metadata": {},
   "source": [
    "### (b) Implement the function\n",
    "\n",
    "Implement the function with signature as given below ($linear\\_spline\\_3$):\n"
   ]
  },
  {
   "cell_type": "code",
   "execution_count": 99,
   "metadata": {},
   "outputs": [],
   "source": [
    "def quadratic_spline_3(x, grid, beta=0):\n",
    "    '''\n",
    "    Parameters:\n",
    "    ------------\n",
    "    x - 1d numpy array with the input argument at which the spline function should be evaluated.\n",
    "    grid - a 2d numpy array of shape $(2,3)$ that provides the data points the spline function is supported, \n",
    "    i.e. f(x_k)=y_k (grid[0,:]: x_k-values, grid[1,:]: y_k-values)\n",
    "    grid.shape=(2,3)\n",
    "    beta - derivative at $x_0$, i.e. $f'(x_0)=beta$.\n",
    "    \n",
    "    Returns:\n",
    "    --------\n",
    "    y - 1d numpy array with the function values.\n",
    "    '''\n",
    "    ## START YOUR CODE ##\n",
    "    \n",
    "    prev_y = 1\n",
    "    prev_x = 1\n",
    "    y_vals = []\n",
    "    for x_val in x:\n",
    "        i = 0\n",
    "        next_x = 0\n",
    "        next_y = 0\n",
    "        while i < len(grid[0]):\n",
    "            next_x = grid[0,i]\n",
    "            next_y = grid[1,i]\n",
    "            if (x_val >= next_x):\n",
    "                i+=1\n",
    "                prev_x = next_x\n",
    "                prev_y = next_y\n",
    "            else:\n",
    "                break\n",
    "        if next_x-prev_x == 0:\n",
    "            y_vals.append(prev_y)\n",
    "        else:\n",
    "            slope = (next_y-prev_y)/(next_x-prev_x)\n",
    "            diff = next_y - (slope * next_x)\n",
    "            y_vals.append(((-8/15)*x_val**2)+((13/3)*x_val)+(-14/5))\n",
    "            \n",
    "        '''\n",
    "            if next_x == 4:\n",
    "                y_vals.append((2*(5/6)*x_val)+(-2/3))\n",
    "            elif next_x == 6:\n",
    "                y_vals.append(((-1/2)*x_val)+10)\n",
    "            else:\n",
    "                y_vals.append(((-8/15)*x_val**2)+((13/3)*x_val)+(-14/5))\n",
    "            #y_vals.append((2*(-8/15)*x_val)+(13/3))\n",
    "            '''\n",
    "    \n",
    "    return y_vals\n",
    "    \n",
    "    \n",
    "    \n",
    "    \n",
    "    \n",
    "    \n",
    "    \n",
    "    \n",
    "    \n",
    "    \n",
    "    \n",
    "    \n",
    "    \n",
    "    \n",
    "    \n",
    "    ## END YOUR CODE ##\n",
    "grid = np.array([[1,4,6],[1,6,4]], dtype='float64')\n",
    "\n",
    "x = np.arange(0,10,0.01)\n",
    "y = quadratic_spline_3(x,grid, beta=0)"
   ]
  },
  {
   "cell_type": "markdown",
   "metadata": {},
   "source": [
    "#### TEST"
   ]
  },
  {
   "cell_type": "code",
   "execution_count": 100,
   "metadata": {},
   "outputs": [
    {
     "data": {
      "image/png": "[encoded data removed]",
      "text/plain": [
       "<Figure size 432x288 with 1 Axes>"
      ]
     },
     "metadata": {
      "needs_background": "light"
     },
     "output_type": "display_data"
    }
   ],
   "source": [
    "grid = np.array([[1,4,6],[1,6,4]], dtype='float64')\n",
    "\n",
    "x = np.arange(0,10,0.01)\n",
    "y = quadratic_spline_3(x,grid, beta=0)\n",
    "\n",
    "plt.plot(x,y,'b')\n",
    "plt.plot(grid[0,0],grid[1,0],'r+')\n",
    "plt.plot(grid[0,1],grid[1,1],'r+')\n",
    "plt.plot(grid[0,2],grid[1,2],'r+')\n",
    "\n",
    "plt.show()"
   ]
  },
  {
   "cell_type": "markdown",
   "metadata": {},
   "source": [
    "## Problem 3\n",
    "\n",
    "Generalize the _quadratic spline_ function to an arbitrary number $m$ of grid points.\n",
    "\n",
    "Assume that the x-values in the grid are sorted."
   ]
  },
  {
   "cell_type": "code",
   "execution_count": 2,
   "metadata": {},
   "outputs": [],
   "source": [
    "def quadratic_spline(x, grid, beta=0):\n",
    "    '''\n",
    "    Parameters:\n",
    "    ------------\n",
    "    x - 1d numpy array with the input argument at which the spline function should be evaluated.\n",
    "    grid - a 2d numpy array of shape $(2,3)$ that provides the data points the spline function is supported, \n",
    "    i.e. f(x_k)=y_k (grid[0,:]: x_k-values, grid[1,:]: y_k-values)\n",
    "    grid.shape=(2,m)\n",
    "    beta - derivative at $x_0$, i.e. $f'(x_0)=beta$.\n",
    "    \n",
    "    Returns:\n",
    "    --------\n",
    "    y - 1d numpy array with the function values.\n",
    "    '''\n",
    "    ## START YOUR CODE ##\n",
    "\n",
    "    \n",
    "    \n",
    "    \n",
    "    \n",
    "    \n",
    "    \n",
    "    \n",
    "    \n",
    "    ## END YOUR CODE ##\n"
   ]
  },
  {
   "cell_type": "code",
   "execution_count": 42,
   "metadata": {},
   "outputs": [
    {
     "data": {
      "image/png": "[encoded data removed]",
      "text/plain": [
       "<Figure size 432x288 with 1 Axes>"
      ]
     },
     "metadata": {
      "needs_background": "light"
     },
     "output_type": "display_data"
    }
   ],
   "source": [
    "grid = np.array([[1,4,6,7,9,12],[1,6,4,-1,2,3]], dtype='float64')\n",
    "\n",
    "x = np.arange(0,15,0.01)\n",
    "y = quadratic_spline(x,grid, beta=0)\n",
    "\n",
    "plt.plot(x,y,'b')\n",
    "for i in range(grid.shape[1]):\n",
    "    plt.plot(grid[0,i],grid[1,i],'r+')\n",
    "\n",
    "plt.show()"
   ]
  },
  {
   "cell_type": "code",
   "execution_count": null,
   "metadata": {},
   "outputs": [],
   "source": []
  }
 ],
 "metadata": {
  "kernelspec": {
   "display_name": "Python 3",
   "language": "python",
   "name": "python3"
  },
  "language_info": {
   "codemirror_mode": {
    "name": "ipython",
    "version": 3
   },
   "file_extension": ".py",
   "mimetype": "text/x-python",
   "name": "python",
   "nbconvert_exporter": "python",
   "pygments_lexer": "ipython3",
   "version": "3.7.4"
  }
 },
 "nbformat": 4,
 "nbformat_minor": 4
}
